{
 "cells": [
  {
   "cell_type": "markdown",
   "metadata": {},
   "source": [
    "### 문자열\n",
    "\n",
    "- 타입\n",
    "    - 단일 데이터 타입(값이 1개)\n",
    "        - 문자열(단일형으로 분류하지만 실체는 연속형)\n",
    "                - \"Hello World\", 'Hello World', \"\"\" .. \"\"\", ''' .. '''"
   ]
  },
  {
   "cell_type": "code",
   "execution_count": 1,
   "metadata": {},
   "outputs": [
    {
     "data": {
      "text/plain": [
       "('hello 부산대역', str)"
      ]
     },
     "execution_count": 1,
     "metadata": {},
     "output_type": "execute_result"
    }
   ],
   "source": [
    "# 1. 문자열 표기법\n",
    "a = \"hello 부산대역\"\n",
    "a, type(a)"
   ]
  },
  {
   "cell_type": "code",
   "execution_count": 2,
   "metadata": {},
   "outputs": [
    {
     "data": {
      "text/plain": [
       "('hello 부산대역', str)"
      ]
     },
     "execution_count": 2,
     "metadata": {},
     "output_type": "execute_result"
    }
   ],
   "source": [
    "a = 'hello 부산대역'\n",
    "a, type(a)"
   ]
  },
  {
   "cell_type": "code",
   "execution_count": 3,
   "metadata": {},
   "outputs": [
    {
     "data": {
      "text/plain": [
       "('\\n    select\\n        *\\n    from\\n        users;\\n', str)"
      ]
     },
     "execution_count": 3,
     "metadata": {},
     "output_type": "execute_result"
    }
   ],
   "source": [
    "# 3개짜리 표현은 여러 줄 문자열 표현, 문자열의 구조를 유지할 때 사용\n",
    "# Python의 주석 한 줄 주석만 존재, #\n",
    "# 여러 줄의 주석은 표현이 따로 없음, 여러 줄 표현하는 문자열 구조를 차용\n",
    "a = \"\"\"\n",
    "    select\n",
    "        *\n",
    "    from\n",
    "        users;\n",
    "\"\"\"\n",
    "a, type(a)"
   ]
  },
  {
   "cell_type": "code",
   "execution_count": 4,
   "metadata": {},
   "outputs": [
    {
     "data": {
      "text/plain": [
       "'\\n# 3개짜리 표현은 여러 줄 문자열 표현, 문자열의 구조를 유지할 때 사용\\n# Python의 주석 한 줄 주석만 존재, #\\n# 여러 줄의 주석은 표현이 따로 없음, 여러 줄 표현하는 문자열 구조를 차용\\n'"
      ]
     },
     "execution_count": 4,
     "metadata": {},
     "output_type": "execute_result"
    }
   ],
   "source": [
    "# 여러 줄의 주석 표현\n",
    "\"\"\"\n",
    "# 3개짜리 표현은 여러 줄 문자열 표현, 문자열의 구조를 유지할 때 사용\n",
    "# Python의 주석 한 줄 주석만 존재, #\n",
    "# 여러 줄의 주석은 표현이 따로 없음, 여러 줄 표현하는 문자열 구조를 차용\n",
    "\"\"\""
   ]
  },
  {
   "cell_type": "code",
   "execution_count": 5,
   "metadata": {},
   "outputs": [
    {
     "name": "stdout",
     "output_type": "stream",
     "text": [
      "abcde\"123\"fghijk\n"
     ]
    }
   ],
   "source": [
    "# 섞어서 표현\n",
    "# 원 문자열에 \"나 '가 포함되어 있어서 그대로 표현하고 싶을 경우 => 혼용\n",
    "a = 'abcde\"123\"fghijk'\n",
    "print(a)"
   ]
  },
  {
   "cell_type": "code",
   "execution_count": 6,
   "metadata": {},
   "outputs": [
    {
     "name": "stdout",
     "output_type": "stream",
     "text": [
      "abcde\"123\"fg'hi'jk\n"
     ]
    }
   ],
   "source": [
    "# 문자열 안에 \",'가 다 섞여 있어서 문제가 될 경우\n",
    "# 이스케이프 문자 표시법으로 문자열의 구분자가 아님을 표현\n",
    "# \"\\\"로 표현\n",
    "a = 'abcde\"123\"fg\\'hi\\'jk'\n",
    "print(a)"
   ]
  },
  {
   "cell_type": "code",
   "execution_count": 7,
   "metadata": {},
   "outputs": [
    {
     "data": {
      "text/plain": [
       "('123456', '123', '456')"
      ]
     },
     "execution_count": 7,
     "metadata": {},
     "output_type": "execute_result"
    }
   ],
   "source": [
    "# 2. 문자열 더하기\n",
    "# 여러 개의 문자열을 한 개의 문자열로 만들기\n",
    "a = '123'\n",
    "b = '456'\n",
    "# 앞 문자열에 뒷 문자열을 이어붙여서 사본을 리턴함\n",
    "a + b, a, b"
   ]
  },
  {
   "cell_type": "code",
   "execution_count": 8,
   "metadata": {},
   "outputs": [
    {
     "data": {
      "text/plain": [
       "'=========='"
      ]
     },
     "execution_count": 8,
     "metadata": {},
     "output_type": "execute_result"
    }
   ],
   "source": [
    "# 3. 문자열 곱하기\n",
    "# 해당 문자열을 10번 반복해라\n",
    "'=' * 10"
   ]
  },
  {
   "cell_type": "code",
   "execution_count": 9,
   "metadata": {},
   "outputs": [
    {
     "data": {
      "text/plain": [
       "'0123456789'"
      ]
     },
     "execution_count": 9,
     "metadata": {},
     "output_type": "execute_result"
    }
   ],
   "source": [
    "# 4. 인덱싱(Indexing)\n",
    "# 문자열에서 특정 문자를 획득(차원 축소라는 의미를 가짐)\n",
    "a = '0123456789'\n",
    "a"
   ]
  },
  {
   "cell_type": "code",
   "execution_count": 10,
   "metadata": {},
   "outputs": [
    {
     "data": {
      "text/plain": [
       "('2', '2')"
      ]
     },
     "execution_count": 10,
     "metadata": {},
     "output_type": "execute_result"
    }
   ],
   "source": [
    "# 위의 문자열 a에서 2라는 값을 출력(추출)하시오 -> 인덱싱\n",
    "# 문법\n",
    "# 변수명[인덱스(정방향(ex. 0,1,2,...), 역방향(ex. -1,2,3,...))]\n",
    "# 정방향은 앞에서부터 세고, 역방향은 뒤에서부터 센다\n",
    "# 본질은 가까운 쪽에서 카운트함\n",
    "# 커서의 오른쪽 값을 취함\n",
    "a[2], a[-8]"
   ]
  },
  {
   "cell_type": "code",
   "execution_count": 48,
   "metadata": {},
   "outputs": [
    {
     "data": {
      "text/plain": [
       "'https://news.naver.com/main/read.nhn?mod+LSD&mid=shm&sid1=105'"
      ]
     },
     "execution_count": 48,
     "metadata": {},
     "output_type": "execute_result"
    }
   ],
   "source": [
    "# 5. 슬라이싱\n",
    "# 문자열에서 특정 위치부터 특정 위치까지 문자열 추출\n",
    "# 원본은 그대로, 잘라서 사본을 리턴 -> 차원 유지\n",
    "tmp = 'https://news.naver.com/main/read.nhn?mod+LSD&mid=shm&sid1=105'\n",
    "tmp"
   ]
  },
  {
   "cell_type": "code",
   "execution_count": 49,
   "metadata": {},
   "outputs": [],
   "source": [
    "# 위의 문자열에서 https 라는 문자열을 추출\n",
    "# 문법 : 변수[ 시작인덱스 : 끝인덱스 : step]\n",
    "# step은 생략될 수 있으며 생략하면 1이다.(1<=step)"
   ]
  },
  {
   "cell_type": "code",
   "execution_count": 50,
   "metadata": {},
   "outputs": [
    {
     "data": {
      "text/plain": [
       "'https://news.naver.com/main/read.nhn?mod+LSD&mid=shm&sid1=105'"
      ]
     },
     "execution_count": 50,
     "metadata": {},
     "output_type": "execute_result"
    }
   ],
   "source": [
    "# 세팅값을 하나도 사용하지 않고 최소 표현 : 1개만 쓰면? -> 원본 Copy\n",
    "tmp[:]"
   ]
  },
  {
   "cell_type": "code",
   "execution_count": 51,
   "metadata": {},
   "outputs": [
    {
     "data": {
      "text/plain": [
       "'https'"
      ]
     },
     "execution_count": 51,
     "metadata": {},
     "output_type": "execute_result"
    }
   ],
   "source": [
    "# step값을 넣어보면(잘 사용하지 않음)\n",
    "tmp[0:5]"
   ]
  },
  {
   "cell_type": "code",
   "execution_count": 52,
   "metadata": {},
   "outputs": [
    {
     "data": {
      "text/plain": [
       "('hts', 'hp')"
      ]
     },
     "execution_count": 52,
     "metadata": {},
     "output_type": "execute_result"
    }
   ],
   "source": [
    "tmp[0:5:2], tmp[0:5:3]"
   ]
  },
  {
   "cell_type": "code",
   "execution_count": 56,
   "metadata": {},
   "outputs": [
    {
     "data": {
      "text/plain": [
       "'https://news.naver.com/main/read.nhn?mod+LSD&mid=shm&sid1=10'"
      ]
     },
     "execution_count": 56,
     "metadata": {},
     "output_type": "execute_result"
    }
   ],
   "source": [
    "# 앞뒤로 한 문자씩 잘라서 출력 => 가까운 방향에서 게산\n",
    "tmp[0:-1]"
   ]
  },
  {
   "cell_type": "code",
   "execution_count": 59,
   "metadata": {
    "scrolled": true
   },
   "outputs": [
    {
     "data": {
      "text/plain": [
       "['https://news', 'naver', 'com/main/read', 'nhn?mod+LSD&mid=shm&sid1=105']"
      ]
     },
     "execution_count": 59,
     "metadata": {},
     "output_type": "execute_result"
    }
   ],
   "source": [
    "# 문자열의 유니버스() 함수\n",
    "# 문자열 지원함수, 문자열 객체의 멤버 함수\n",
    "# 자르기!\n",
    "a = tmp.split('.') # [] : List\n",
    "b = a[0]\n",
    "b\n",
    "b[-8:]"
   ]
  },
  {
   "cell_type": "code",
   "execution_count": 46,
   "metadata": {},
   "outputs": [
    {
     "data": {
      "text/plain": [
       "(str, 'https://news.naver.com/main/read.nhn?mod+LSD&mid=shm&sid1=105')"
      ]
     },
     "execution_count": 46,
     "metadata": {},
     "output_type": "execute_result"
    }
   ],
   "source": [
    "# 데이터 먼저 확인\n",
    "type(tmp), tmp"
   ]
  },
  {
   "cell_type": "code",
   "execution_count": 47,
   "metadata": {},
   "outputs": [
    {
     "data": {
      "text/plain": [
       "'read.nhn'"
      ]
     },
     "execution_count": 47,
     "metadata": {},
     "output_type": "execute_result"
    }
   ],
   "source": [
    "tmp.split('?')[0][-8:]"
   ]
  },
  {
   "cell_type": "code",
   "execution_count": 164,
   "metadata": {},
   "outputs": [
    {
     "data": {
      "text/plain": [
       "'1 + 2 = 3'"
      ]
     },
     "execution_count": 164,
     "metadata": {},
     "output_type": "execute_result"
    }
   ],
   "source": [
    "# 6. 포맷팅\n",
    "# 문자열 안에 데이터를 넣어서 새로운 문자열을 생성\n",
    "# 6-1. 간단한 형식\n",
    "a=1\n",
    "b=2\n",
    "# x+y=z형태로 출력\n",
    "# str(수치) => 문자열 : 형변환\n",
    "# int(\"1\") => 1 : 형변환\n",
    "str(a) + \" + \" + str(b) + \" = \" + str(a+b)"
   ]
  },
  {
   "cell_type": "code",
   "execution_count": 165,
   "metadata": {},
   "outputs": [
    {
     "data": {
      "text/plain": [
       "'1 +2 = 3'"
      ]
     },
     "execution_count": 165,
     "metadata": {},
     "output_type": "execute_result"
    }
   ],
   "source": [
    "# 결론을 쓰고, 데이터 삽입(세팅, 설정)\n",
    "# %d : 정수 , %f : 부동소수, %s : 문자열\n",
    "'%d +%d = %d' % (a, b, a+b)"
   ]
  },
  {
   "cell_type": "code",
   "execution_count": 166,
   "metadata": {},
   "outputs": [
    {
     "data": {
      "text/plain": [
       "'1 /2 = 0'"
      ]
     },
     "execution_count": 166,
     "metadata": {},
     "output_type": "execute_result"
    }
   ],
   "source": [
    "# 값이 부동소수 인데 정수로 받으면 소수점이 날라감\n",
    "'%d /%d = %d' % (a, b, a/b)"
   ]
  },
  {
   "cell_type": "code",
   "execution_count": 167,
   "metadata": {},
   "outputs": [
    {
     "data": {
      "text/plain": [
       "'1 /2 = 0.5'"
      ]
     },
     "execution_count": 167,
     "metadata": {},
     "output_type": "execute_result"
    }
   ],
   "source": [
    "# 타입에 맞춰서 예상해서 형식을 지정해야 함\n",
    "'%d /%d = %0.1f' % (a, b, a/b)"
   ]
  },
  {
   "cell_type": "code",
   "execution_count": 170,
   "metadata": {},
   "outputs": [
    {
     "data": {
      "text/plain": [
       "'1 / 2 = 0.5'"
      ]
     },
     "execution_count": 170,
     "metadata": {},
     "output_type": "execute_result"
    }
   ],
   "source": [
    "# %s로 표현하면 타입이 무엇이든 다 문자열로 변환해서 원본값 유지\n",
    "'%s / %s = %s' %(a, b, a/b)"
   ]
  },
  {
   "cell_type": "code",
   "execution_count": 169,
   "metadata": {},
   "outputs": [
    {
     "ename": "TypeError",
     "evalue": "not all arguments converted during string formatting",
     "output_type": "error",
     "traceback": [
      "\u001b[1;31m---------------------------------------------------------------------------\u001b[0m",
      "\u001b[1;31mTypeError\u001b[0m                                 Traceback (most recent call last)",
      "\u001b[1;32m<ipython-input-169-1233d482198f>\u001b[0m in \u001b[0;36m<module>\u001b[1;34m\u001b[0m\n\u001b[0;32m      1\u001b[0m \u001b[1;31m# 사용처 대비 인자가 더 많다 -> 에러\u001b[0m\u001b[1;33m\u001b[0m\u001b[1;33m\u001b[0m\u001b[1;33m\u001b[0m\u001b[0m\n\u001b[1;32m----> 2\u001b[1;33m \u001b[1;34m'%s / %s = %s'\u001b[0m \u001b[1;33m%\u001b[0m \u001b[1;33m(\u001b[0m\u001b[0ma\u001b[0m\u001b[1;33m,\u001b[0m \u001b[0mb\u001b[0m\u001b[1;33m,\u001b[0m \u001b[0ma\u001b[0m\u001b[1;33m/\u001b[0m\u001b[0mb\u001b[0m\u001b[1;33m,\u001b[0m \u001b[1;36m10\u001b[0m\u001b[1;33m)\u001b[0m\u001b[1;33m\u001b[0m\u001b[1;33m\u001b[0m\u001b[0m\n\u001b[0m",
      "\u001b[1;31mTypeError\u001b[0m: not all arguments converted during string formatting"
     ]
    }
   ],
   "source": [
    "# 사용처 대비 인자가 더 많다 -> 에러\n",
    "'%s / %s = %s' % (a, b, a/b, 10)"
   ]
  },
  {
   "cell_type": "code",
   "execution_count": 171,
   "metadata": {},
   "outputs": [
    {
     "data": {
      "text/plain": [
       "'1 + 2 = 3'"
      ]
     },
     "execution_count": 171,
     "metadata": {},
     "output_type": "execute_result"
    }
   ],
   "source": [
    "# 6.2 포맷팅\n",
    "# 문자열의 format{} 함수를 이용하여 처리\n",
    "# 사용 순서의 유연함, 인자의 이름 지정(명확성 부여), 미사용에도 커버\n",
    "'{} + {} = {}'.format(a,b,a+b)"
   ]
  },
  {
   "cell_type": "code",
   "execution_count": 172,
   "metadata": {},
   "outputs": [
    {
     "data": {
      "text/plain": [
       "'2 + 1 = 3'"
      ]
     },
     "execution_count": 172,
     "metadata": {},
     "output_type": "execute_result"
    }
   ],
   "source": [
    "# 순서를 마음대로 대체\n",
    "'{1} + {0} = {2}'.format(a,b,a+b)"
   ]
  },
  {
   "cell_type": "code",
   "execution_count": 173,
   "metadata": {},
   "outputs": [
    {
     "data": {
      "text/plain": [
       "'2 + 2 = 2'"
      ]
     },
     "execution_count": 173,
     "metadata": {},
     "output_type": "execute_result"
    }
   ],
   "source": [
    "# 사용을 원하지 않는다면 한 개를 여러 번 사용\n",
    "'{1} + {1} = {1}'.format(a,b,a+b)"
   ]
  },
  {
   "cell_type": "code",
   "execution_count": 180,
   "metadata": {},
   "outputs": [
    {
     "data": {
      "text/plain": [
       "'1 + 2 = 3.0'"
      ]
     },
     "execution_count": 180,
     "metadata": {},
     "output_type": "execute_result"
    }
   ],
   "source": [
    "# 각 자리에 명확한 의미를 부여하고 싶다 => 매개변수명 지정\n",
    "'{height} + {weight} = {result}'.format(height = a, weight = b, result= 1/a+b)"
   ]
  },
  {
   "cell_type": "code",
   "execution_count": 182,
   "metadata": {},
   "outputs": [
    {
     "data": {
      "text/plain": [
       "'0123456789abcdefgABCDEFT!@#$%^가나다라'"
      ]
     },
     "execution_count": 182,
     "metadata": {},
     "output_type": "execute_result"
    }
   ],
   "source": [
    "# 7. 기타 문자열 지원기능\n",
    "a = '0123456789abcdefgABCDEFT!@#$%^가나다라'\n",
    "a"
   ]
  },
  {
   "cell_type": "code",
   "execution_count": 183,
   "metadata": {},
   "outputs": [
    {
     "data": {
      "text/plain": [
       "('문자열 내에 특정 문자 개수', 1)"
      ]
     },
     "execution_count": 183,
     "metadata": {},
     "output_type": "execute_result"
    }
   ],
   "source": [
    "# 카운트\n",
    "'문자열 내에 특정 문자 개수', a.count('a')"
   ]
  },
  {
   "cell_type": "code",
   "execution_count": 184,
   "metadata": {},
   "outputs": [
    {
     "data": {
      "text/plain": [
       "('문자열 내에 특정 문자 개수', 0)"
      ]
     },
     "execution_count": 184,
     "metadata": {},
     "output_type": "execute_result"
    }
   ],
   "source": [
    "'문자열 내에 특정 문자 개수', a.count('z')"
   ]
  },
  {
   "cell_type": "code",
   "execution_count": 185,
   "metadata": {},
   "outputs": [
    {
     "data": {
      "text/plain": [
       "10"
      ]
     },
     "execution_count": 185,
     "metadata": {},
     "output_type": "execute_result"
    }
   ],
   "source": [
    "# Index : 문자열 내에 위치 확인, 존재한다 여부\n",
    "a.index('a')"
   ]
  },
  {
   "cell_type": "code",
   "execution_count": 186,
   "metadata": {},
   "outputs": [
    {
     "ename": "ValueError",
     "evalue": "substring not found",
     "output_type": "error",
     "traceback": [
      "\u001b[1;31m---------------------------------------------------------------------------\u001b[0m",
      "\u001b[1;31mValueError\u001b[0m                                Traceback (most recent call last)",
      "\u001b[1;32m<ipython-input-186-abd5fee85436>\u001b[0m in \u001b[0;36m<module>\u001b[1;34m\u001b[0m\n\u001b[0;32m      1\u001b[0m \u001b[1;31m# 없는 문자열의 인덱스를 찾으면 에러 -> 예외처리 해야함\u001b[0m\u001b[1;33m\u001b[0m\u001b[1;33m\u001b[0m\u001b[1;33m\u001b[0m\u001b[0m\n\u001b[1;32m----> 2\u001b[1;33m \u001b[0ma\u001b[0m\u001b[1;33m.\u001b[0m\u001b[0mindex\u001b[0m\u001b[1;33m(\u001b[0m\u001b[1;34m'h'\u001b[0m\u001b[1;33m)\u001b[0m\u001b[1;33m\u001b[0m\u001b[1;33m\u001b[0m\u001b[0m\n\u001b[0m",
      "\u001b[1;31mValueError\u001b[0m: substring not found"
     ]
    }
   ],
   "source": [
    "# 없는 문자열의 인덱스를 찾으면 에러 -> 예외처리 해야함\n",
    "a.index('h')"
   ]
  },
  {
   "cell_type": "code",
   "execution_count": 187,
   "metadata": {},
   "outputs": [
    {
     "data": {
      "text/plain": [
       "(10, -1, -1)"
      ]
     },
     "execution_count": 187,
     "metadata": {},
     "output_type": "execute_result"
    }
   ],
   "source": [
    "# 특정 문자가 존재하면 그 인덱스(위치)를 반환\n",
    "# 없으면 -1를 리턴\n",
    "a.find('a'), a.find('h'), a.find('z')"
   ]
  },
  {
   "cell_type": "code",
   "execution_count": 188,
   "metadata": {},
   "outputs": [],
   "source": [
    "# count(), index(), find() 함수들은 문자열 내에 문자열의 존재여부, 위치 등 탐색을 수행하는 함수들"
   ]
  },
  {
   "cell_type": "code",
   "execution_count": 189,
   "metadata": {},
   "outputs": [
    {
     "data": {
      "text/plain": [
       "'0123456789'"
      ]
     },
     "execution_count": 189,
     "metadata": {},
     "output_type": "execute_result"
    }
   ],
   "source": [
    "# 8. 조인, 분해\n",
    "a = '0123456789'\n",
    "a"
   ]
  },
  {
   "cell_type": "code",
   "execution_count": 190,
   "metadata": {},
   "outputs": [
    {
     "data": {
      "text/plain": [
       "'0|1|2|3|4|5|6|7|8|9'"
      ]
     },
     "execution_count": 190,
     "metadata": {},
     "output_type": "execute_result"
    }
   ],
   "source": [
    "# 조인 : 대상 문자열 문자 사이사이에 특정한 문자열을 넣음\n",
    "tmp='|'.join( a )\n",
    "tmp"
   ]
  },
  {
   "cell_type": "code",
   "execution_count": 191,
   "metadata": {},
   "outputs": [
    {
     "data": {
      "text/plain": [
       "['0', '1', '2', '3', '4', '5', '6', '7', '8', '9']"
      ]
     },
     "execution_count": 191,
     "metadata": {},
     "output_type": "execute_result"
    }
   ],
   "source": [
    "# 분해 : 문자열을 특정 문자를 기준으로 분해함\n",
    "tmp.split('|')"
   ]
  },
  {
   "cell_type": "code",
   "execution_count": 192,
   "metadata": {},
   "outputs": [
    {
     "data": {
      "text/plain": [
       "['0', '1', '2', '3', '4', '5', '6', '7', '8', '9']"
      ]
     },
     "execution_count": 192,
     "metadata": {},
     "output_type": "execute_result"
    }
   ],
   "source": [
    "# 참고로 확인(조인, 분해과정을 거쳐 자동생성)\n",
    "list(a)"
   ]
  },
  {
   "cell_type": "code",
   "execution_count": 106,
   "metadata": {},
   "outputs": [
    {
     "data": {
      "text/plain": [
       "'\\t\\t\\t\\t\\n\\t\\t\\t\\t\\t\\n\\t\\t\\t\\t\\t\\n\\t\\t\\t\\t\\t\\n\\t\\t\\t\\t\\t미국 USD\\n\\t\\t\\t\\t\\n\\t\\t\\t\\t'"
      ]
     },
     "execution_count": 106,
     "metadata": {},
     "output_type": "execute_result"
    }
   ],
   "source": [
    "# 9. 공백제거\n",
    "tmp = '''\t\t\t\t\n",
    "\t\t\t\t\t\n",
    "\t\t\t\t\t\n",
    "\t\t\t\t\t\n",
    "\t\t\t\t\t미국 USD\n",
    "\t\t\t\t\n",
    "\t\t\t\t'''\n",
    "tmp"
   ]
  },
  {
   "cell_type": "code",
   "execution_count": 134,
   "metadata": {},
   "outputs": [
    {
     "data": {
      "text/plain": [
       "'\\t\\t\\t\\t\\n\\t\\t\\t\\t\\t\\n\\t\\t\\t\\t\\t\\n\\t\\t\\t\\t\\t\\n\\t\\t\\t\\t\\t미국 USD\\n\\t\\t\\t\\t\\n\\t\\t\\t\\t'"
      ]
     },
     "execution_count": 134,
     "metadata": {},
     "output_type": "execute_result"
    }
   ],
   "source": [
    "# 앞, 뒤, 앞뒤 이렇게 공백을 제거하는 함수에서 지원\n",
    "# 데이터의 내부 공백은 정규식으로 처리하여 제거 가능\n",
    "'%s' % tmp"
   ]
  },
  {
   "cell_type": "code",
   "execution_count": 135,
   "metadata": {},
   "outputs": [
    {
     "data": {
      "text/plain": [
       "'미국 USD\\n\\t\\t\\t\\t\\n\\t\\t\\t\\t'"
      ]
     },
     "execution_count": 135,
     "metadata": {},
     "output_type": "execute_result"
    }
   ],
   "source": [
    "'[%s]' % tmp.lstrip()"
   ]
  },
  {
   "cell_type": "code",
   "execution_count": 136,
   "metadata": {},
   "outputs": [
    {
     "data": {
      "text/plain": [
       "'\\t\\t\\t\\t\\n\\t\\t\\t\\t\\t\\n\\t\\t\\t\\t\\t\\n\\t\\t\\t\\t\\t\\n\\t\\t\\t\\t\\t미국 USD'"
      ]
     },
     "execution_count": 136,
     "metadata": {},
     "output_type": "execute_result"
    }
   ],
   "source": [
    "'[%s]' % tmp.rstrip()"
   ]
  },
  {
   "cell_type": "code",
   "execution_count": 137,
   "metadata": {},
   "outputs": [
    {
     "data": {
      "text/plain": [
       "'미국 USD'"
      ]
     },
     "execution_count": 137,
     "metadata": {},
     "output_type": "execute_result"
    }
   ],
   "source": [
    "'%s' % tmp.strip()"
   ]
  },
  {
   "cell_type": "code",
   "execution_count": 138,
   "metadata": {},
   "outputs": [
    {
     "data": {
      "text/plain": [
       "'USD'"
      ]
     },
     "execution_count": 138,
     "metadata": {},
     "output_type": "execute_result"
    }
   ],
   "source": [
    "# 위에 코드를 연게해서 USD를 출력하시오.\n",
    "\n",
    "# 구분자가 공백일 경우, 기본 분해값이다\n",
    "'%s' % tmp.strip().split(' ')[1]"
   ]
  },
  {
   "cell_type": "code",
   "execution_count": 140,
   "metadata": {},
   "outputs": [
    {
     "data": {
      "text/plain": [
       "'USD'"
      ]
     },
     "execution_count": 140,
     "metadata": {},
     "output_type": "execute_result"
    }
   ],
   "source": [
    "# 순수 문자열에서 바로 처리하니까 포맷팅은 없어도 됨\n",
    "tmp.strip().split(' ')[-1]"
   ]
  },
  {
   "cell_type": "code",
   "execution_count": 141,
   "metadata": {},
   "outputs": [],
   "source": [
    "# 10. 문자열 대체"
   ]
  },
  {
   "cell_type": "code",
   "execution_count": 144,
   "metadata": {},
   "outputs": [
    {
     "data": {
      "text/plain": [
       "\"The Gascon campaign of 1345, part of the Hundred Years' War, \\nwas fought between August and November in English-controlled \\nGascony in south-west France. Henry, Earl of Derby, \\ncommanding an Anglo-Gascon force, met a large French force at \\nBergerac, east of Bordeaux, and decisively defeated it.\""
      ]
     },
     "execution_count": 144,
     "metadata": {},
     "output_type": "execute_result"
    }
   ],
   "source": [
    "a = '''The Gascon campaign of 1345, part of the Hundred Years' War, \n",
    "was fought between August and November in English-controlled \n",
    "Gascony in south-west France. Henry, Earl of Derby, \n",
    "commanding an Anglo-Gascon force, met a large French force at \n",
    "Bergerac, east of Bordeaux, and decisively defeated it.'''\n",
    "a"
   ]
  },
  {
   "cell_type": "code",
   "execution_count": 145,
   "metadata": {},
   "outputs": [
    {
     "data": {
      "text/plain": [
       "\"The Gascon campaign of 1345 part of the Hundred Years' War was fought between August and November in Englishcontrolled Gascony in southwest France Henry Earl of Derby commanding an AngloGascon force met a large French force at Bergerac east of Bordeaux and decisively defeated it\""
      ]
     },
     "execution_count": 145,
     "metadata": {},
     "output_type": "execute_result"
    }
   ],
   "source": [
    "# 특정 문자를 특정 문자로 대체\n",
    "# 좀 더 발전적인 표현은 정규식이다.\n",
    "# 간단하게 특정 문자를 대체할 경우 사용 -> 모든 문자열에 적용\n",
    "a.replace(',', '').replace('.','').replace('\\n','').replace('-','')"
   ]
  },
  {
   "cell_type": "code",
   "execution_count": 146,
   "metadata": {},
   "outputs": [
    {
     "data": {
      "text/plain": [
       "'[abcdef]'"
      ]
     },
     "execution_count": 146,
     "metadata": {},
     "output_type": "execute_result"
    }
   ],
   "source": [
    "# 11. 자리 칸 배치 및 치환식\n",
    "'[%s]' % 'abcdef'"
   ]
  },
  {
   "cell_type": "code",
   "execution_count": 147,
   "metadata": {},
   "outputs": [
    {
     "data": {
      "text/plain": [
       "'[    abcdef]'"
      ]
     },
     "execution_count": 147,
     "metadata": {},
     "output_type": "execute_result"
    }
   ],
   "source": [
    "# 우의 문자열을 10칸에 채워라 [10칸]\n",
    "'[%10s]' % 'abcdef'"
   ]
  },
  {
   "cell_type": "code",
   "execution_count": 148,
   "metadata": {},
   "outputs": [
    {
     "data": {
      "text/plain": [
       "'[abcdef    ]'"
      ]
     },
     "execution_count": 148,
     "metadata": {},
     "output_type": "execute_result"
    }
   ],
   "source": [
    "# 좌의 문자열을 10칸에 채워라 [10칸]\n",
    "'[%-10s]' % 'abcdef'"
   ]
  },
  {
   "cell_type": "code",
   "execution_count": 150,
   "metadata": {},
   "outputs": [
    {
     "data": {
      "text/plain": [
       "'[3.145679]'"
      ]
     },
     "execution_count": 150,
     "metadata": {},
     "output_type": "execute_result"
    }
   ],
   "source": [
    "# 소수점 6자리로 나오고 반올림된다\n",
    "'[%f]' % 3.1456789"
   ]
  },
  {
   "cell_type": "code",
   "execution_count": 151,
   "metadata": {},
   "outputs": [
    {
     "data": {
      "text/plain": [
       "'[3.15]'"
      ]
     },
     "execution_count": 151,
     "metadata": {},
     "output_type": "execute_result"
    }
   ],
   "source": [
    "# 소수점만 2자리 -> 반올림됨\n",
    "'[%0.2f]' % 3.1456789"
   ]
  },
  {
   "cell_type": "code",
   "execution_count": 154,
   "metadata": {},
   "outputs": [
    {
     "data": {
      "text/plain": [
       "'[      3.15]'"
      ]
     },
     "execution_count": 154,
     "metadata": {},
     "output_type": "execute_result"
    }
   ],
   "source": [
    "'[%10.2f]' % 3.1456789"
   ]
  },
  {
   "cell_type": "code",
   "execution_count": 155,
   "metadata": {},
   "outputs": [
    {
     "data": {
      "text/plain": [
       "'[3.15      ]'"
      ]
     },
     "execution_count": 155,
     "metadata": {},
     "output_type": "execute_result"
    }
   ],
   "source": [
    "'[%-10.2f]' % 3.1456789"
   ]
  },
  {
   "cell_type": "code",
   "execution_count": 153,
   "metadata": {},
   "outputs": [
    {
     "data": {
      "text/plain": [
       "'[abcdef    ]'"
      ]
     },
     "execution_count": 153,
     "metadata": {},
     "output_type": "execute_result"
    }
   ],
   "source": [
    "'[%-10s]' % 'abcdef'"
   ]
  },
  {
   "cell_type": "code",
   "execution_count": 194,
   "metadata": {},
   "outputs": [
    {
     "data": {
      "text/plain": [
       "'123나456'"
      ]
     },
     "execution_count": 194,
     "metadata": {},
     "output_type": "execute_result"
    }
   ],
   "source": [
    "'123{0}456'.format('가')"
   ]
  },
  {
   "cell_type": "code",
   "execution_count": 158,
   "metadata": {},
   "outputs": [
    {
     "data": {
      "text/plain": [
       "'123가         456'"
      ]
     },
     "execution_count": 158,
     "metadata": {},
     "output_type": "execute_result"
    }
   ],
   "source": [
    "# 10칸 내에 표현\n",
    "'123{0:<10}456'.format('가')"
   ]
  },
  {
   "cell_type": "code",
   "execution_count": 159,
   "metadata": {},
   "outputs": [
    {
     "data": {
      "text/plain": [
       "'123         가456'"
      ]
     },
     "execution_count": 159,
     "metadata": {},
     "output_type": "execute_result"
    }
   ],
   "source": [
    "'123{0:>10}456'.format('가')"
   ]
  },
  {
   "cell_type": "code",
   "execution_count": 163,
   "metadata": {},
   "outputs": [
    {
     "data": {
      "text/plain": [
       "'123     가     456'"
      ]
     },
     "execution_count": 163,
     "metadata": {},
     "output_type": "execute_result"
    }
   ],
   "source": [
    "# 짝수 칸이면 앞쪽으로 치우치고, 홀수 칸이면 정중앙\n",
    "'123{0:^11}456'.format('가')"
   ]
  },
  {
   "cell_type": "code",
   "execution_count": 162,
   "metadata": {},
   "outputs": [
    {
     "data": {
      "text/plain": [
       "'123*****가*****456'"
      ]
     },
     "execution_count": 162,
     "metadata": {},
     "output_type": "execute_result"
    }
   ],
   "source": [
    "'123{0:*^11}456'.format('가')"
   ]
  },
  {
   "cell_type": "code",
   "execution_count": 195,
   "metadata": {},
   "outputs": [
    {
     "data": {
      "text/plain": [
       "'123$$$$$가$$$$$456'"
      ]
     },
     "execution_count": 195,
     "metadata": {},
     "output_type": "execute_result"
    }
   ],
   "source": [
    "'123{0:$^11}456'.format('가')"
   ]
  }
 ],
 "metadata": {
  "kernelspec": {
   "display_name": "Python 3",
   "language": "python",
   "name": "python3"
  },
  "language_info": {
   "codemirror_mode": {
    "name": "ipython",
    "version": 3
   },
   "file_extension": ".py",
   "mimetype": "text/x-python",
   "name": "python",
   "nbconvert_exporter": "python",
   "pygments_lexer": "ipython3",
   "version": "3.7.4"
  }
 },
 "nbformat": 4,
 "nbformat_minor": 2
}
