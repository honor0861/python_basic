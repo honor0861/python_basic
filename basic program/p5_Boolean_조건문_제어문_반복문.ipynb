{
 "cells": [
  {
   "cell_type": "markdown",
   "metadata": {},
   "source": [
    "### 흐름제어\n",
    "\n",
    "- 코드의 흐름을 변경할려면(분기, 반복 등)\n",
    "- 조건을 체크 -> 참, 거짓에 의해 (판정) 흐름을 변경\n",
    "- 판정의 결론 : Boolean(T/F)\n",
    "- 판정이 작성된 코드를 조건식\n",
    "\n",
    "- 조건문, 반복문 제어문 식\n",
    "    - 조건식의 결론 => 참인지 거짓인지?\n",
    "        - False 상황 : 0, 0.0 [], {}, (), None(값이 없음), 기타 조건문의 결과(비교 등등)\n",
    "    - 조건식을 가지고 상황에 따라 움직이는 방식 : 조건문\n",
    "        - if\n",
    "    - 반복문 : 반복작업\n",
    "        - for, while"
   ]
  },
  {
   "cell_type": "code",
   "execution_count": 1,
   "metadata": {},
   "outputs": [],
   "source": [
    "# 요구사항에서 조건 상황이 몇 개인지 체크하여 구현\n",
    "# if\n",
    "# if ~ else\n",
    "# if ~ elif\n",
    "# if ~ elif   ~ elif...\n",
    "# if ~ elif.. ~ else"
   ]
  },
  {
   "cell_type": "code",
   "execution_count": 2,
   "metadata": {},
   "outputs": [],
   "source": [
    "# 커피값을 입력받아서 1500원 이상이면 거스름돈을 줘라\n",
    "# 내용은 \"거스름돈(받은 금액 - 1500)은 XX원 입니다.\""
   ]
  },
  {
   "cell_type": "code",
   "execution_count": 3,
   "metadata": {},
   "outputs": [
    {
     "name": "stdout",
     "output_type": "stream",
     "text": [
      "커피값을 주세요\n",
      "1600\n"
     ]
    },
    {
     "data": {
      "text/plain": [
       "(1600, int)"
      ]
     },
     "execution_count": 3,
     "metadata": {},
     "output_type": "execute_result"
    }
   ],
   "source": [
    "# 작업단위 쪼개기\n",
    "# 1. 커피값을 입력받아서 (정수값 수치로 잘 넣는다고 전제)\n",
    "# 값의 유효성을 체크하지 않음\n",
    "coffee_price = int(input('커피값을 주세요\\n'))\n",
    "coffee_price, type(coffee_price)\n"
   ]
  },
  {
   "cell_type": "code",
   "execution_count": 4,
   "metadata": {},
   "outputs": [
    {
     "data": {
      "text/plain": [
       "True"
      ]
     },
     "execution_count": 4,
     "metadata": {},
     "output_type": "execute_result"
    }
   ],
   "source": [
    "coffee_price >1500"
   ]
  },
  {
   "cell_type": "code",
   "execution_count": 5,
   "metadata": {},
   "outputs": [],
   "source": [
    "# 2. 1500원 이상이면 <- 조건 1개\n",
    "# 문법 => if 조건식:\n",
    "# >, <, >=, <=, ==, !=, not(부정)\n",
    "# : => 코드블럭이 시작됨\n",
    "#      코드블럭 => 들려쓰기 후 진행(세로줄이 변경됨)\n",
    "#      그 조건이 만족된 때만 수행하는 코드\n",
    "if coffee_price >1500:\n",
    "    pass # 아무것도 하지 말고 일단 패스(구조잡을 때, 실제로 안할 때)"
   ]
  },
  {
   "cell_type": "code",
   "execution_count": 6,
   "metadata": {},
   "outputs": [
    {
     "name": "stdout",
     "output_type": "stream",
     "text": [
      "거스롬 돈은 100원 입니다.\n"
     ]
    }
   ],
   "source": [
    "# 3. 거스롬 돈을 줘라\n",
    "if coffee_price > 1500:\n",
    "    print('거스롬 돈은 %s원 입니다.' % (coffee_price - 1500))\n",
    "    pass"
   ]
  },
  {
   "cell_type": "markdown",
   "metadata": {},
   "source": [
    "### 통합코드"
   ]
  },
  {
   "cell_type": "code",
   "execution_count": null,
   "metadata": {},
   "outputs": [
    {
     "name": "stdout",
     "output_type": "stream",
     "text": [
      "커피값을 주세요\n",
      "1600\n",
      "거스름 돈은 100원 입니다.\n",
      "커피값을 주세요\n",
      "1500\n"
     ]
    }
   ],
   "source": [
    "while True:\n",
    "    coffee_price = int(input('커피값을 주세요\\n'))\n",
    "    if coffee_price > 1500:\n",
    "        print('거스름 돈은 %s원 입니다.' % (coffee_price-1500))\n",
    "        pass"
   ]
  },
  {
   "cell_type": "code",
   "execution_count": 17,
   "metadata": {},
   "outputs": [
    {
     "data": {
      "text/plain": [
       "'\\n# 들여쓰기 : 코드블럭\\n# 코드블럭 내에 존재하는 코드 => 수행문 => statements\\n\\nif 조건식 :\\n    코드블럭 내 코드 : statements\\nelif 조건식 :\\n    코드블럭 내 코드 : statements\\nelse :\\n    코드블럭 내 코드 : statements\\n'"
      ]
     },
     "execution_count": 17,
     "metadata": {},
     "output_type": "execute_result"
    }
   ],
   "source": [
    "'''\n",
    "# 들여쓰기 : 코드블럭\n",
    "# 코드블럭 내에 존재하는 코드 => 수행문 => statements\n",
    "\n",
    "if 조건식 :\n",
    "    코드블럭 내 코드 : statements\n",
    "elif 조건식 :\n",
    "    코드블럭 내 코드 : statements\n",
    "else :\n",
    "    코드블럭 내 코드 : statements\n",
    "'''"
   ]
  },
  {
   "cell_type": "code",
   "execution_count": null,
   "metadata": {},
   "outputs": [],
   "source": []
  }
 ],
 "metadata": {
  "kernelspec": {
   "display_name": "Python 3",
   "language": "python",
   "name": "python3"
  },
  "language_info": {
   "codemirror_mode": {
    "name": "ipython",
    "version": 3
   },
   "file_extension": ".py",
   "mimetype": "text/x-python",
   "name": "python",
   "nbconvert_exporter": "python",
   "pygments_lexer": "ipython3",
   "version": "3.7.4"
  }
 },
 "nbformat": 4,
 "nbformat_minor": 2
}
