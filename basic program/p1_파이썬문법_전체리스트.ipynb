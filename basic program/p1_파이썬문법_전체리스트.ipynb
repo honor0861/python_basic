{
 "cells": [
  {
   "cell_type": "markdown",
   "metadata": {},
   "source": [
    "### 파이썬 기본문법 목록\n",
    "- 타입\n",
    "    - 단일 데이터 타입(값이 1개)\n",
    "        - 수치형 :\n",
    "            - 정수(..., -1, 0, 1, ...)\n",
    "                : 십진수(10,11), 이진수(0 or 1), 8진수(0,1,2,3,4,5,6,7), 16진수(0xFF)\n",
    "            - 부동 소수(-3.14, 0.0, 1.2, ...)\n",
    "        - 문자열(단일형으로 분류하지만 실체는 연속형)\n",
    "                - \"Hello World\", 'Hello World', \"\"\" .. \"\"\", ''' .. '''\n",
    "        - Boolean\n",
    "                - True(1), False(0)\n",
    "    - 연속 데이터 타입(값을 여러 개를 들고 있다)\n",
    "        - List :         [] 순서(Index)가 있음, 값이 중복되어도 OK\n",
    "        - Dictionary :   {} 순서가 없음, 키와 값의 세트로 구성, 키는 중복 X\n",
    "        - Tuple :        () 순서(Index)가 있음, 값이 중복되어도 OK, 단순히 묶음, 수정, 추가 불가능\n",
    "       \n",
    "        - 집합(Matrix) : {}  중복 없음(불가, 제거)\n",
    "        === 데이터 분석\n",
    "        - 배열\n",
    "        - 시리즈\n",
    "        - 데이터프레임  \n",
    "        === 딥러닝\n",
    "        - Tensor\n",
    "- 조건문, 반복문 제어문 식\n",
    "    - 조건식의 결론 => 참인지 거짓인지?\n",
    "        - False 상황 : 0, 0.0 [], {}, (), None(값이 없음), 기타 조건문의 결과(비교 등등)\n",
    "    - 조건식을 가지고 상황에 따라 움직이는 방식 : 조건문\n",
    "        - if\n",
    "    - 반복문 : 반복작업\n",
    "        - for, while\n",
    "=> 여기까지의 지식으로 프로그램을 작성 : 절차적 프로그램\n",
    "- 함수\n",
    "    - 내장함수, 외장함수, 람다함수, 커스텀함수(사용자 정의 함수)\n",
    "=> 여기까지의 지식으로 프로그램을 작성 : 함수 지향적 프로그램\n",
    "- 클래스\n",
    "=> 여기까지의 지식으로 프로그램을 작성 : 객체 지향적 프로그램\n",
    "- 모듈화, 모듈 가져오기\n",
    "- 패키지\n",
    "- 예외처리\n"
   ]
  },
  {
   "cell_type": "markdown",
   "metadata": {},
   "source": [
    "print('hello world')"
   ]
  },
  {
   "cell_type": "code",
   "execution_count": null,
   "metadata": {},
   "outputs": [],
   "source": []
  },
  {
   "cell_type": "code",
   "execution_count": null,
   "metadata": {},
   "outputs": [],
   "source": []
  }
 ],
 "metadata": {
  "kernelspec": {
   "display_name": "Python 3",
   "language": "python",
   "name": "python3"
  },
  "language_info": {
   "codemirror_mode": {
    "name": "ipython",
    "version": 3
   },
   "file_extension": ".py",
   "mimetype": "text/x-python",
   "name": "python",
   "nbconvert_exporter": "python",
   "pygments_lexer": "ipython3",
   "version": "3.7.4"
  }
 },
 "nbformat": 4,
 "nbformat_minor": 2
}
